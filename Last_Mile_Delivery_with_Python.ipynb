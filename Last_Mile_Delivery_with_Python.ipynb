{
  "cells": [
    {
      "cell_type": "markdown",
      "metadata": {
        "id": "view-in-github",
        "colab_type": "text"
      },
      "source": [
        "<a href=\"https://colab.research.google.com/github/saishdesai23/Last_Mile_Delivery_Demand_Forecasting_Route_Optmization/blob/main/Last_Mile_Delivery_with_Python.ipynb\" target=\"_parent\"><img src=\"https://colab.research.google.com/assets/colab-badge.svg\" alt=\"Open In Colab\"/></a>"
      ]
    },
    {
      "cell_type": "markdown",
      "source": [
        "## 1. Installation"
      ],
      "metadata": {
        "id": "x9vswrQMu7n8"
      }
    },
    {
      "cell_type": "code",
      "source": [
        "!pip install ortools"
      ],
      "metadata": {
        "colab": {
          "base_uri": "https://localhost:8080/"
        },
        "id": "GaKoAhk0i7e1",
        "outputId": "b3aec0d0-400e-41ee-94ee-b1fee2573271"
      },
      "execution_count": 2,
      "outputs": [
        {
          "output_type": "stream",
          "name": "stdout",
          "text": [
            "Collecting ortools\n",
            "  Downloading ortools-9.8.3296-cp310-cp310-manylinux_2_17_x86_64.manylinux2014_x86_64.whl (22.9 MB)\n",
            "\u001b[2K     \u001b[90m━━━━━━━━━━━━━━━━━━━━━━━━━━━━━━━━━━━━━━━━\u001b[0m \u001b[32m22.9/22.9 MB\u001b[0m \u001b[31m18.5 MB/s\u001b[0m eta \u001b[36m0:00:00\u001b[0m\n",
            "\u001b[?25hCollecting absl-py>=2.0.0 (from ortools)\n",
            "  Downloading absl_py-2.1.0-py3-none-any.whl (133 kB)\n",
            "\u001b[2K     \u001b[90m━━━━━━━━━━━━━━━━━━━━━━━━━━━━━━━━━━━━━━━━\u001b[0m \u001b[32m133.7/133.7 kB\u001b[0m \u001b[31m9.8 MB/s\u001b[0m eta \u001b[36m0:00:00\u001b[0m\n",
            "\u001b[?25hRequirement already satisfied: numpy>=1.13.3 in /usr/local/lib/python3.10/dist-packages (from ortools) (1.23.5)\n",
            "Collecting pandas>=2.0.0 (from ortools)\n",
            "  Downloading pandas-2.2.0-cp310-cp310-manylinux_2_17_x86_64.manylinux2014_x86_64.whl (13.0 MB)\n",
            "\u001b[2K     \u001b[90m━━━━━━━━━━━━━━━━━━━━━━━━━━━━━━━━━━━━━━━━\u001b[0m \u001b[32m13.0/13.0 MB\u001b[0m \u001b[31m19.9 MB/s\u001b[0m eta \u001b[36m0:00:00\u001b[0m\n",
            "\u001b[?25hCollecting protobuf>=4.25.0 (from ortools)\n",
            "  Downloading protobuf-4.25.2-cp37-abi3-manylinux2014_x86_64.whl (294 kB)\n",
            "\u001b[2K     \u001b[90m━━━━━━━━━━━━━━━━━━━━━━━━━━━━━━━━━━━━━━━━\u001b[0m \u001b[32m294.6/294.6 kB\u001b[0m \u001b[31m7.2 MB/s\u001b[0m eta \u001b[36m0:00:00\u001b[0m\n",
            "\u001b[?25hRequirement already satisfied: python-dateutil>=2.8.2 in /usr/local/lib/python3.10/dist-packages (from pandas>=2.0.0->ortools) (2.8.2)\n",
            "Requirement already satisfied: pytz>=2020.1 in /usr/local/lib/python3.10/dist-packages (from pandas>=2.0.0->ortools) (2023.3.post1)\n",
            "Collecting tzdata>=2022.7 (from pandas>=2.0.0->ortools)\n",
            "  Downloading tzdata-2023.4-py2.py3-none-any.whl (346 kB)\n",
            "\u001b[2K     \u001b[90m━━━━━━━━━━━━━━━━━━━━━━━━━━━━━━━━━━━━━━━━\u001b[0m \u001b[32m346.6/346.6 kB\u001b[0m \u001b[31m26.8 MB/s\u001b[0m eta \u001b[36m0:00:00\u001b[0m\n",
            "\u001b[?25hRequirement already satisfied: six>=1.5 in /usr/local/lib/python3.10/dist-packages (from python-dateutil>=2.8.2->pandas>=2.0.0->ortools) (1.16.0)\n",
            "Installing collected packages: tzdata, protobuf, absl-py, pandas, ortools\n",
            "  Attempting uninstall: protobuf\n",
            "    Found existing installation: protobuf 3.20.3\n",
            "    Uninstalling protobuf-3.20.3:\n",
            "      Successfully uninstalled protobuf-3.20.3\n",
            "  Attempting uninstall: absl-py\n",
            "    Found existing installation: absl-py 1.4.0\n",
            "    Uninstalling absl-py-1.4.0:\n",
            "      Successfully uninstalled absl-py-1.4.0\n",
            "  Attempting uninstall: pandas\n",
            "    Found existing installation: pandas 1.5.3\n",
            "    Uninstalling pandas-1.5.3:\n",
            "      Successfully uninstalled pandas-1.5.3\n",
            "\u001b[31mERROR: pip's dependency resolver does not currently take into account all the packages that are installed. This behaviour is the source of the following dependency conflicts.\n",
            "lida 0.0.10 requires fastapi, which is not installed.\n",
            "lida 0.0.10 requires kaleido, which is not installed.\n",
            "lida 0.0.10 requires python-multipart, which is not installed.\n",
            "lida 0.0.10 requires uvicorn, which is not installed.\n",
            "bigframes 0.19.1 requires pandas<2.1.4,>=1.5.0, but you have pandas 2.2.0 which is incompatible.\n",
            "google-colab 1.0.0 requires pandas==1.5.3, but you have pandas 2.2.0 which is incompatible.\n",
            "tensorboard 2.15.1 requires protobuf<4.24,>=3.19.6, but you have protobuf 4.25.2 which is incompatible.\n",
            "tensorflow-metadata 1.14.0 requires absl-py<2.0.0,>=0.9, but you have absl-py 2.1.0 which is incompatible.\n",
            "tensorflow-metadata 1.14.0 requires protobuf<4.21,>=3.20.3, but you have protobuf 4.25.2 which is incompatible.\u001b[0m\u001b[31m\n",
            "\u001b[0mSuccessfully installed absl-py-2.1.0 ortools-9.8.3296 pandas-2.2.0 protobuf-4.25.2 tzdata-2023.4\n"
          ]
        }
      ]
    },
    {
      "cell_type": "markdown",
      "source": [
        "## 2. Google Drive Connection"
      ],
      "metadata": {
        "id": "YzeQGPUzvAr5"
      }
    },
    {
      "cell_type": "code",
      "source": [
        "# connecting google drive to the notebook\n",
        "from google.colab import drive\n",
        "drive.mount('/content/gdrive/', force_remount=True)"
      ],
      "metadata": {
        "colab": {
          "base_uri": "https://localhost:8080/"
        },
        "id": "m4XkF6u7i1oX",
        "outputId": "9580e8e9-01e7-4396-ca80-95740b7a510a"
      },
      "execution_count": 3,
      "outputs": [
        {
          "output_type": "stream",
          "name": "stdout",
          "text": [
            "Mounted at /content/gdrive/\n"
          ]
        }
      ]
    },
    {
      "cell_type": "markdown",
      "source": [
        "## 3. Import"
      ],
      "metadata": {
        "id": "MU13goC_vDNH"
      }
    },
    {
      "cell_type": "code",
      "execution_count": 4,
      "metadata": {
        "collapsed": true,
        "id": "Hjziovb7ivm1"
      },
      "outputs": [],
      "source": [
        "from ortools.constraint_solver import routing_enums_pb2\n",
        "from ortools.constraint_solver import pywrapcp\n",
        "import pandas as pd\n",
        "import numpy as np"
      ]
    },
    {
      "cell_type": "markdown",
      "source": [
        "## 4. Input vairables"
      ],
      "metadata": {
        "id": "FLLWUn59vJQD"
      }
    },
    {
      "cell_type": "code",
      "execution_count": 36,
      "metadata": {
        "collapsed": true,
        "id": "cd0aclGpivm2",
        "colab": {
          "base_uri": "https://localhost:8080/"
        },
        "outputId": "bd725c01-4d99-465d-e976-362ed0f3d9e8"
      },
      "outputs": [
        {
          "output_type": "stream",
          "name": "stdout",
          "text": [
            "16 destinations\n"
          ]
        }
      ],
      "source": [
        "# Import Distance Matrix\n",
        "df_distance = pd.read_excel('/content/gdrive/MyDrive/Time Series Analysis/Store-Item demand forecasting and Route Optimization for Last Mile Delivery/data/df_distance_matrix.xlsx', index_col=0)\n",
        "\n",
        "# Transform to Numpy Array\n",
        "distance_matrix = df_distance.to_numpy()\n",
        "\n",
        "# Create dictionnary with data\n",
        "data = {}\n",
        "data['distance_matrix'] = distance_matrix\n",
        "print(\"{:,} destinations\".format(len(data['distance_matrix'][0]) - 1))\n",
        "\n",
        "# Orders quantity (Boxes)\n",
        "data['demands'] = [0, 1, 1, 2, 4, 2, 4, 8, 8, 1, 2, 1, 2, 4, 4, 8, 8]\n",
        "# Vehicles Capacities (Boxes)\n",
        "data['vehicle_capacities'] = [15, 15, 15, 15, 15]\n",
        "# Fleet informations\n",
        "# Number of vehicles\n",
        "data['num_vehicles'] = 5\n",
        "# Location of the depot\n",
        "data['depot'] = 0"
      ]
    },
    {
      "cell_type": "markdown",
      "source": [
        "## 5. Optmization Algorithm"
      ],
      "metadata": {
        "id": "x8oNaGRSvS15"
      }
    },
    {
      "cell_type": "code",
      "execution_count": 37,
      "metadata": {
        "collapsed": true,
        "id": "F9_koNyKivm3"
      },
      "outputs": [],
      "source": [
        "def distance_callback(from_index, to_index):\n",
        "    \"\"\"Returns the distance between the two nodes.\"\"\"\n",
        "    # Convert from routing variable Index to distance matrix NodeIndex.\n",
        "    from_node = manager.IndexToNode(from_index)\n",
        "    to_node = manager.IndexToNode(to_index)\n",
        "    return data['distance_matrix'][from_node][to_node]"
      ]
    },
    {
      "cell_type": "code",
      "execution_count": 38,
      "metadata": {
        "collapsed": true,
        "id": "2YWkB9yXivm3"
      },
      "outputs": [],
      "source": [
        "def demand_callback(from_index):\n",
        "    \"\"\"Returns the demand of the node.\"\"\"\n",
        "    # Convert from routing variable Index to demands NodeIndex.\n",
        "    from_node = manager.IndexToNode(from_index)\n",
        "    return data['demands'][from_node]"
      ]
    },
    {
      "cell_type": "code",
      "execution_count": 39,
      "metadata": {
        "collapsed": true,
        "id": "h35zV39vivm3"
      },
      "outputs": [],
      "source": [
        "# Create the routing index manager.\n",
        "manager = pywrapcp.RoutingIndexManager(len(data['distance_matrix']),\n",
        "                                       data['num_vehicles'], data['depot'])\n",
        "\n",
        "# Create Routing Model\n",
        "routing = pywrapcp.RoutingModel(manager)\n",
        "\n",
        "# Create and register a transit callback.\n",
        "transit_callback_index = routing.RegisterTransitCallback(distance_callback)\n",
        "\n",
        "# Define cost of each arc.\n",
        "routing.SetArcCostEvaluatorOfAllVehicles(transit_callback_index)\n",
        "\n",
        "# Add Capacity constraint.\n",
        "demand_callback_index = routing.RegisterUnaryTransitCallback(\n",
        "    demand_callback)\n",
        "routing.AddDimensionWithVehicleCapacity(demand_callback_index,\n",
        "    0,  # null capacity slack\n",
        "    data['vehicle_capacities'],  # vehicle maximum capacities\n",
        "    True,  # start cumul to zero\n",
        "    'Capacity')\n",
        "\n",
        "# Setting first solution heuristic.\n",
        "search_parameters = pywrapcp.DefaultRoutingSearchParameters()\n",
        "\n",
        "search_parameters.first_solution_strategy = (\n",
        "    routing_enums_pb2.FirstSolutionStrategy.PATH_CHEAPEST_ARC)\n",
        "\n",
        "search_parameters.local_search_metaheuristic = (\n",
        "    routing_enums_pb2.LocalSearchMetaheuristic.GUIDED_LOCAL_SEARCH)\n",
        "\n",
        "search_parameters.time_limit.FromSeconds(1)\n",
        "\n",
        "# Solve the problem.\n",
        "solution = routing.SolveWithParameters(search_parameters)"
      ]
    },
    {
      "cell_type": "code",
      "execution_count": 57,
      "metadata": {
        "colab": {
          "base_uri": "https://localhost:8080/"
        },
        "id": "n174g8OGivm3",
        "outputId": "3ce442ab-d98a-4532-e9de-e135c65478b6"
      },
      "outputs": [
        {
          "output_type": "stream",
          "name": "stdout",
          "text": [
            "0\n",
            "14\n",
            "14\n",
            "16\n",
            "16\n",
            "10\n",
            "10\n",
            "2\n",
            "2\n",
            "21\n",
            "Route for driver 0:\n",
            " 0 Parcels(0) ->  14 Parcels(4) ->  16 Parcels(12) ->  10 Parcels(14) ->  2 Parcels(15) ->  0 Parcels(15)\n",
            "Distance of the route: 2192 (m)\n",
            "Parcels Delivered: 15 (parcels)\n",
            "\n",
            "17\n",
            "1\n",
            "1\n",
            "4\n",
            "4\n",
            "3\n",
            "3\n",
            "7\n",
            "7\n",
            "22\n",
            "Route for driver 1:\n",
            " 0 Parcels(0) ->  1 Parcels(1) ->  4 Parcels(5) ->  3 Parcels(7) ->  7 Parcels(15) ->  0 Parcels(15)\n",
            "Distance of the route: 1552 (m)\n",
            "Parcels Delivered: 15 (parcels)\n",
            "\n",
            "18\n",
            "23\n",
            "Route for driver 2:\n",
            " 0 Parcels(0) ->  0 Parcels(0)\n",
            "Distance of the route: 0 (m)\n",
            "Parcels Delivered: 0 (parcels)\n",
            "\n",
            "19\n",
            "12\n",
            "12\n",
            "11\n",
            "11\n",
            "15\n",
            "15\n",
            "13\n",
            "13\n",
            "24\n",
            "Route for driver 3:\n",
            " 0 Parcels(0) ->  12 Parcels(2) ->  11 Parcels(3) ->  15 Parcels(11) ->  13 Parcels(15) ->  0 Parcels(15)\n",
            "Distance of the route: 1552 (m)\n",
            "Parcels Delivered: 15 (parcels)\n",
            "\n",
            "20\n",
            "9\n",
            "9\n",
            "8\n",
            "8\n",
            "6\n",
            "6\n",
            "5\n",
            "5\n",
            "25\n",
            "Route for driver 4:\n",
            " 0 Parcels(0) ->  9 Parcels(1) ->  8 Parcels(9) ->  6 Parcels(13) ->  5 Parcels(15) ->  0 Parcels(15)\n",
            "Distance of the route: 1164 (m)\n",
            "Parcels Delivered: 15 (parcels)\n",
            "\n",
            "Total distance of all routes: 6,460 (m)\n",
            "Parcels Delivered: 60/60\n"
          ]
        }
      ],
      "source": [
        "if solution:\n",
        "    total_distance = 0\n",
        "    total_load = 0\n",
        "    for vehicle_id in range(data['num_vehicles']):\n",
        "        index = routing.Start(vehicle_id)\n",
        "        plan_output = 'Route for driver {}:\\n'.format(vehicle_id)\n",
        "        route_distance = 0\n",
        "        route_load = 0\n",
        "        while not routing.IsEnd(index):\n",
        "            node_index = manager.IndexToNode(index)\n",
        "            route_load += data['demands'][node_index]\n",
        "            plan_output += ' {0} Parcels({1}) -> '.format(node_index, route_load)\n",
        "            previous_index = index\n",
        "            index = solution.Value(routing.NextVar(index))\n",
        "            route_distance += routing.GetArcCostForVehicle(\n",
        "                previous_index, index, vehicle_id)\n",
        "        plan_output += ' {0} Parcels({1})\\n'.format(manager.IndexToNode(index),\n",
        "                                                 route_load)\n",
        "        plan_output += 'Distance of the route: {} (m)\\n'.format(route_distance)\n",
        "        plan_output += 'Parcels Delivered: {} (parcels)\\n'.format(route_load)\n",
        "        total_distance += route_distance\n",
        "        total_load += route_load\n",
        "    print('Total distance of all routes: {:,} (m)'.format(total_distance))\n",
        "    print('Parcels Delivered: {:,}/{:,}'.format(total_load, sum(data['demands'])))\n",
        "else:\n",
        "    print('No Solution')"
      ]
    },
    {
      "cell_type": "markdown",
      "source": [
        "Reference Links\n",
        "\n",
        "1) OR-tools\n",
        "https://developers.google.com/optimization/introduction/\n",
        "python\n",
        "\n",
        "2) OR-tools example\n",
        "https://colab.research.google.com/github/google/or-tools/blob/stable/examples/notebook/constraint_solver/vrp_capacity.ipynb#scrollTo=code\n",
        "\n",
        "\n",
        "3) OR-tools vehile routing\n",
        "https://developers.google.com/optimization/routing\n",
        "\n"
      ],
      "metadata": {
        "id": "MsChX8FgtXUI"
      }
    },
    {
      "cell_type": "code",
      "source": [],
      "metadata": {
        "id": "kTXa2rtUzLTV"
      },
      "execution_count": null,
      "outputs": []
    }
  ],
  "metadata": {
    "kernelspec": {
      "display_name": "Python 3",
      "language": "python",
      "name": "python3"
    },
    "language_info": {
      "codemirror_mode": {
        "name": "ipython",
        "version": 3
      },
      "file_extension": ".py",
      "mimetype": "text/x-python",
      "name": "python",
      "nbconvert_exporter": "python",
      "pygments_lexer": "ipython3",
      "version": "3.6.1"
    },
    "colab": {
      "provenance": [],
      "include_colab_link": true
    }
  },
  "nbformat": 4,
  "nbformat_minor": 0
}